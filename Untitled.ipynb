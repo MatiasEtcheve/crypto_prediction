{
 "cells": [
  {
   "cell_type": "code",
   "execution_count": 1,
   "id": "5d1040ad-f395-49f3-a0c7-ab48124eb796",
   "metadata": {},
   "outputs": [
    {
     "name": "stdout",
     "output_type": "stream",
     "text": [
      "symbol                      BTCUSDT  ETHUSDT\n",
      "Open time                                   \n",
      "2020-12-24 00:00:00+00:00  22993.51   575.65\n",
      "2020-12-24 00:30:00+00:00  23067.41   576.60\n",
      "2020-12-24 01:00:00+00:00  22978.74   576.06\n",
      "2020-12-24 01:30:00+00:00  23202.71   586.46\n",
      "2020-12-24 02:00:00+00:00  23030.93   579.00\n",
      "...                             ...      ...\n",
      "2021-12-23 21:30:00+00:00  50824.37  4112.61\n",
      "2021-12-23 22:00:00+00:00  50828.43  4111.43\n",
      "2021-12-23 22:30:00+00:00  50758.94  4094.53\n",
      "2021-12-23 23:00:00+00:00  50690.54  4099.26\n",
      "2021-12-23 23:30:00+00:00  50838.81  4111.41\n",
      "\n",
      "[17487 rows x 2 columns]\n"
     ]
    }
   ],
   "source": [
    "%load_ext lab_black\n",
    "from datetime import datetime, timedelta\n",
    "import vectorbt as vbt\n",
    "from broker import Cerebro\n",
    "from strategy import trix\n",
    "from get_data import select_data\n",
    "import talib\n",
    "from pprint import pprint\n",
    "import numpy as np\n",
    "import pandas as pd\n",
    "from itertools import combinations, product\n",
    "\n",
    "vbt.settings.portfolio[\"fees\"] = 0.001\n",
    "vbt.settings.portfolio[\"slippage\"] = 0.0025\n",
    "\n",
    "from_date = datetime.now() - timedelta(days=365)\n",
    "end_date = datetime.now()\n",
    "interval = \"30m\"\n",
    "symbol = [\"BTCUSDT\", \"ETHUSDT\"]\n",
    "price = select_data(symbol, interval, from_date, end_date)\n",
    "print(price.get(\"Close\"))"
   ]
  },
  {
   "cell_type": "code",
   "execution_count": 10,
   "id": "1535afda-2773-484e-ac3b-69483d93c914",
   "metadata": {},
   "outputs": [
    {
     "name": "stdout",
     "output_type": "stream",
     "text": [
      "[2, 2, 2, 2, 12, 12, 12, 12] [2, 2, 12, 12, 2, 2, 12, 12] [2, 12, 2, 12, 2, 12, 2, 12]\n",
      "1 4\n",
      "(17487, 2)\n"
     ]
    },
    {
     "ename": "UnboundLocalError",
     "evalue": "local variable 'trix' referenced before assignment",
     "output_type": "error",
     "traceback": [
      "\u001b[0;31m---------------------------------------------------------------------------\u001b[0m",
      "\u001b[0;31mUnboundLocalError\u001b[0m                         Traceback (most recent call last)",
      "\u001b[0;32m/var/folders/rb/_tzyg33164sbnnw49wrmspyc0000gn/T/ipykernel_32071/3763766509.py\u001b[0m in \u001b[0;36m<module>\u001b[0;34m\u001b[0m\n\u001b[1;32m     47\u001b[0m )\n\u001b[1;32m     48\u001b[0m \u001b[0;34m\u001b[0m\u001b[0m\n\u001b[0;32m---> 49\u001b[0;31m trix = TrixIndicator.run(\n\u001b[0m\u001b[1;32m     50\u001b[0m     \u001b[0mprice\u001b[0m\u001b[0;34m.\u001b[0m\u001b[0mget\u001b[0m\u001b[0;34m(\u001b[0m\u001b[0;34m\"Close\"\u001b[0m\u001b[0;34m)\u001b[0m\u001b[0;34m,\u001b[0m\u001b[0;34m\u001b[0m\u001b[0;34m\u001b[0m\u001b[0m\n\u001b[1;32m     51\u001b[0m     \u001b[0mwindow\u001b[0m\u001b[0;34m=\u001b[0m\u001b[0;34m[\u001b[0m\u001b[0;36m1\u001b[0m\u001b[0;34m,\u001b[0m \u001b[0;36m2\u001b[0m\u001b[0;34m,\u001b[0m \u001b[0;36m3\u001b[0m\u001b[0;34m]\u001b[0m\u001b[0;34m,\u001b[0m\u001b[0;34m\u001b[0m\u001b[0;34m\u001b[0m\u001b[0m\n",
      "\u001b[0;32m~/.pyenv/versions/3.9.6/envs/binance/lib/python3.9/site-packages/vectorbt/indicators/factory.py\u001b[0m in \u001b[0;36mrun\u001b[0;34m(cls, close, window, signal_window, short_name, hide_params, hide_default, **kwargs)\u001b[0m\n\u001b[1;32m     11\u001b[0m \u001b[0;34m\u001b[0m\u001b[0m\n\u001b[1;32m     12\u001b[0m \u001b[0mEach\u001b[0m \u001b[0mindicator\u001b[0m \u001b[0;32mis\u001b[0m \u001b[0mbasically\u001b[0m \u001b[0ma\u001b[0m \u001b[0mpipeline\u001b[0m \u001b[0mthat\u001b[0m\u001b[0;34m:\u001b[0m\u001b[0;34m\u001b[0m\u001b[0;34m\u001b[0m\u001b[0m\n\u001b[0;32m---> 13\u001b[0;31m \u001b[0;34m\u001b[0m\u001b[0m\n\u001b[0m\u001b[1;32m     14\u001b[0m \u001b[0;34m*\u001b[0m \u001b[0mAccepts\u001b[0m \u001b[0ma\u001b[0m \u001b[0mlist\u001b[0m \u001b[0mof\u001b[0m \u001b[0minput\u001b[0m \u001b[0marrays\u001b[0m \u001b[0;34m(\u001b[0m\u001b[0;32mfor\u001b[0m \u001b[0mexample\u001b[0m\u001b[0;34m,\u001b[0m \u001b[0mOHLCV\u001b[0m \u001b[0mdata\u001b[0m\u001b[0;34m)\u001b[0m\u001b[0;34m\u001b[0m\u001b[0;34m\u001b[0m\u001b[0m\n\u001b[1;32m     15\u001b[0m \u001b[0;34m*\u001b[0m \u001b[0mAccepts\u001b[0m \u001b[0ma\u001b[0m \u001b[0mlist\u001b[0m \u001b[0mof\u001b[0m \u001b[0mparameter\u001b[0m \u001b[0marrays\u001b[0m \u001b[0;34m(\u001b[0m\u001b[0;32mfor\u001b[0m \u001b[0mexample\u001b[0m\u001b[0;34m,\u001b[0m \u001b[0mwindow\u001b[0m \u001b[0msize\u001b[0m\u001b[0;34m)\u001b[0m\u001b[0;34m\u001b[0m\u001b[0;34m\u001b[0m\u001b[0m\n",
      "\u001b[0;32m~/.pyenv/versions/3.9.6/envs/binance/lib/python3.9/site-packages/vectorbt/indicators/factory.py\u001b[0m in \u001b[0;36m_run\u001b[0;34m(cls, *args, **kwargs)\u001b[0m\n\u001b[1;32m   2860\u001b[0m \u001b[0;34m\u001b[0m\u001b[0m\n\u001b[1;32m   2861\u001b[0m             \u001b[0;31m# Run the pipeline\u001b[0m\u001b[0;34m\u001b[0m\u001b[0;34m\u001b[0m\u001b[0;34m\u001b[0m\u001b[0m\n\u001b[0;32m-> 2862\u001b[0;31m             results = run_pipeline(\n\u001b[0m\u001b[1;32m   2863\u001b[0m                 \u001b[0mlen\u001b[0m\u001b[0;34m(\u001b[0m\u001b[0moutput_names\u001b[0m\u001b[0;34m)\u001b[0m\u001b[0;34m,\u001b[0m  \u001b[0;31m# number of returned outputs\u001b[0m\u001b[0;34m\u001b[0m\u001b[0;34m\u001b[0m\u001b[0m\n\u001b[1;32m   2864\u001b[0m                 \u001b[0mcustom_func\u001b[0m\u001b[0;34m,\u001b[0m\u001b[0;34m\u001b[0m\u001b[0;34m\u001b[0m\u001b[0m\n",
      "\u001b[0;32m~/.pyenv/versions/3.9.6/envs/binance/lib/python3.9/site-packages/vectorbt/indicators/factory.py\u001b[0m in \u001b[0;36mrun_pipeline\u001b[0;34m(num_ret_outputs, custom_func, require_input_shape, input_shape, input_index, input_columns, input_list, in_output_list, in_output_settings, broadcast_kwargs, param_list, param_product, param_settings, run_unique, silence_warnings, per_column, pass_col, keep_pd, to_2d, as_lists, pass_input_shape, pass_flex_2d, level_names, hide_levels, stacking_kwargs, return_raw, use_raw, wrapper_kwargs, seed, *args, **kwargs)\u001b[0m\n\u001b[1;32m   1880\u001b[0m                 \u001b[0moutput\u001b[0m\u001b[0;34m.\u001b[0m\u001b[0mappend\u001b[0m\u001b[0;34m(\u001b[0m\u001b[0mcol_output\u001b[0m\u001b[0;34m)\u001b[0m\u001b[0;34m\u001b[0m\u001b[0;34m\u001b[0m\u001b[0m\n\u001b[1;32m   1881\u001b[0m         \u001b[0;32melse\u001b[0m\u001b[0;34m:\u001b[0m\u001b[0;34m\u001b[0m\u001b[0;34m\u001b[0m\u001b[0m\n\u001b[0;32m-> 1882\u001b[0;31m             output = _call_custom_func(\n\u001b[0m\u001b[1;32m   1883\u001b[0m                 \u001b[0minput_list_ready\u001b[0m\u001b[0;34m,\u001b[0m\u001b[0;34m\u001b[0m\u001b[0;34m\u001b[0m\u001b[0m\n\u001b[1;32m   1884\u001b[0m                 \u001b[0min_output_list_ready\u001b[0m\u001b[0;34m,\u001b[0m\u001b[0;34m\u001b[0m\u001b[0;34m\u001b[0m\u001b[0m\n",
      "\u001b[0;32m~/.pyenv/versions/3.9.6/envs/binance/lib/python3.9/site-packages/vectorbt/indicators/factory.py\u001b[0m in \u001b[0;36m_call_custom_func\u001b[0;34m(_input_list_ready, _in_output_list_ready, _param_list_ready, *_func_args, **_func_kwargs)\u001b[0m\n\u001b[1;32m   1820\u001b[0m                         \u001b[0;34m*\u001b[0m\u001b[0m_func_args\u001b[0m\u001b[0;34m,\u001b[0m \u001b[0;34m**\u001b[0m\u001b[0m_func_kwargs\u001b[0m\u001b[0;34m\u001b[0m\u001b[0;34m\u001b[0m\u001b[0m\n\u001b[1;32m   1821\u001b[0m                     )\n\u001b[0;32m-> 1822\u001b[0;31m                 return custom_func(\n\u001b[0m\u001b[1;32m   1823\u001b[0m                     \u001b[0m_input_list_ready\u001b[0m\u001b[0;34m,\u001b[0m\u001b[0;34m\u001b[0m\u001b[0;34m\u001b[0m\u001b[0m\n\u001b[1;32m   1824\u001b[0m                     \u001b[0m_in_output_list_ready\u001b[0m\u001b[0;34m,\u001b[0m\u001b[0;34m\u001b[0m\u001b[0;34m\u001b[0m\u001b[0m\n",
      "\u001b[0;32m~/.pyenv/versions/3.9.6/envs/binance/lib/python3.9/site-packages/vectorbt/indicators/factory.py\u001b[0m in \u001b[0;36mcustom_func\u001b[0;34m(input_list, in_output_list, param_list, input_shape, col, flex_2d, return_cache, use_cache, use_ray, *args, **_kwargs)\u001b[0m\n\u001b[1;32m   3365\u001b[0m                 \u001b[0m_param_tuples\u001b[0m \u001b[0;34m=\u001b[0m \u001b[0;34m(\u001b[0m\u001b[0;34m)\u001b[0m\u001b[0;34m\u001b[0m\u001b[0;34m\u001b[0m\u001b[0m\n\u001b[1;32m   3366\u001b[0m \u001b[0;34m\u001b[0m\u001b[0m\n\u001b[0;32m-> 3367\u001b[0;31m             return apply_and_concat_func(\n\u001b[0m\u001b[1;32m   3368\u001b[0m                 \u001b[0mn_params\u001b[0m\u001b[0;34m,\u001b[0m\u001b[0;34m\u001b[0m\u001b[0;34m\u001b[0m\u001b[0m\n\u001b[1;32m   3369\u001b[0m                 \u001b[0mselect_params_func\u001b[0m\u001b[0;34m,\u001b[0m\u001b[0;34m\u001b[0m\u001b[0;34m\u001b[0m\u001b[0m\n",
      "\u001b[0;32m~/.pyenv/versions/3.9.6/envs/binance/lib/python3.9/site-packages/vectorbt/base/combine_fns.py\u001b[0m in \u001b[0;36mapply_and_concat_multiple\u001b[0;34m(n, apply_func, show_progress, tqdm_kwargs, *args, **kwargs)\u001b[0m\n\u001b[1;32m    107\u001b[0m     \u001b[0moutputs\u001b[0m \u001b[0;34m=\u001b[0m \u001b[0;34m[\u001b[0m\u001b[0;34m]\u001b[0m\u001b[0;34m\u001b[0m\u001b[0;34m\u001b[0m\u001b[0m\n\u001b[1;32m    108\u001b[0m     \u001b[0;32mfor\u001b[0m \u001b[0mi\u001b[0m \u001b[0;32min\u001b[0m \u001b[0mtqdm\u001b[0m\u001b[0;34m(\u001b[0m\u001b[0mrange\u001b[0m\u001b[0;34m(\u001b[0m\u001b[0mn\u001b[0m\u001b[0;34m)\u001b[0m\u001b[0;34m,\u001b[0m \u001b[0mdisable\u001b[0m\u001b[0;34m=\u001b[0m\u001b[0;32mnot\u001b[0m \u001b[0mshow_progress\u001b[0m\u001b[0;34m,\u001b[0m \u001b[0;34m**\u001b[0m\u001b[0mtqdm_kwargs\u001b[0m\u001b[0;34m)\u001b[0m\u001b[0;34m:\u001b[0m\u001b[0;34m\u001b[0m\u001b[0;34m\u001b[0m\u001b[0m\n\u001b[0;32m--> 109\u001b[0;31m         \u001b[0moutputs\u001b[0m\u001b[0;34m.\u001b[0m\u001b[0mappend\u001b[0m\u001b[0;34m(\u001b[0m\u001b[0mtuple\u001b[0m\u001b[0;34m(\u001b[0m\u001b[0mmap\u001b[0m\u001b[0;34m(\u001b[0m\u001b[0mreshape_fns\u001b[0m\u001b[0;34m.\u001b[0m\u001b[0mto_2d\u001b[0m\u001b[0;34m,\u001b[0m \u001b[0mapply_func\u001b[0m\u001b[0;34m(\u001b[0m\u001b[0mi\u001b[0m\u001b[0;34m,\u001b[0m \u001b[0;34m*\u001b[0m\u001b[0margs\u001b[0m\u001b[0;34m,\u001b[0m \u001b[0;34m**\u001b[0m\u001b[0mkwargs\u001b[0m\u001b[0;34m)\u001b[0m\u001b[0;34m)\u001b[0m\u001b[0;34m)\u001b[0m\u001b[0;34m)\u001b[0m\u001b[0;34m\u001b[0m\u001b[0;34m\u001b[0m\u001b[0m\n\u001b[0m\u001b[1;32m    110\u001b[0m     \u001b[0;32mreturn\u001b[0m \u001b[0mlist\u001b[0m\u001b[0;34m(\u001b[0m\u001b[0mmap\u001b[0m\u001b[0;34m(\u001b[0m\u001b[0mnp\u001b[0m\u001b[0;34m.\u001b[0m\u001b[0mcolumn_stack\u001b[0m\u001b[0;34m,\u001b[0m \u001b[0mlist\u001b[0m\u001b[0;34m(\u001b[0m\u001b[0mzip\u001b[0m\u001b[0;34m(\u001b[0m\u001b[0;34m*\u001b[0m\u001b[0moutputs\u001b[0m\u001b[0;34m)\u001b[0m\u001b[0;34m)\u001b[0m\u001b[0;34m)\u001b[0m\u001b[0;34m)\u001b[0m\u001b[0;34m\u001b[0m\u001b[0;34m\u001b[0m\u001b[0m\n\u001b[1;32m    111\u001b[0m \u001b[0;34m\u001b[0m\u001b[0m\n",
      "\u001b[0;32m~/.pyenv/versions/3.9.6/envs/binance/lib/python3.9/site-packages/vectorbt/indicators/factory.py\u001b[0m in \u001b[0;36mselect_params_func\u001b[0;34m(i, args_before, input_tuple, param_tuples, *args, **_kwargs)\u001b[0m\n\u001b[1;32m      1\u001b[0m \u001b[0;31m# Copyright (c) 2021 Oleg Polakow. All rights reserved.\u001b[0m\u001b[0;34m\u001b[0m\u001b[0;34m\u001b[0m\u001b[0;34m\u001b[0m\u001b[0m\n\u001b[0;32m----> 2\u001b[0;31m \u001b[0;31m# This code is licensed under Apache 2.0 with Commons Clause license (see LICENSE.md for details)\u001b[0m\u001b[0;34m\u001b[0m\u001b[0;34m\u001b[0m\u001b[0;34m\u001b[0m\u001b[0m\n\u001b[0m\u001b[1;32m      3\u001b[0m \u001b[0;34m\u001b[0m\u001b[0m\n\u001b[1;32m      4\u001b[0m \"\"\"A factory for building new indicators with ease.\n\u001b[1;32m      5\u001b[0m \u001b[0;34m\u001b[0m\u001b[0m\n",
      "\u001b[0;32m/var/folders/rb/_tzyg33164sbnnw49wrmspyc0000gn/T/ipykernel_32071/3763766509.py\u001b[0m in \u001b[0;36mapply_trix\u001b[0;34m(close, window, signal_window)\u001b[0m\n\u001b[1;32m     14\u001b[0m     \u001b[0mprint\u001b[0m\u001b[0;34m(\u001b[0m\u001b[0mwindow\u001b[0m\u001b[0;34m,\u001b[0m \u001b[0msignal_window\u001b[0m\u001b[0;34m)\u001b[0m\u001b[0;34m\u001b[0m\u001b[0;34m\u001b[0m\u001b[0m\n\u001b[1;32m     15\u001b[0m     \u001b[0mprint\u001b[0m\u001b[0;34m(\u001b[0m\u001b[0mclose\u001b[0m\u001b[0;34m.\u001b[0m\u001b[0mshape\u001b[0m\u001b[0;34m)\u001b[0m\u001b[0;34m\u001b[0m\u001b[0;34m\u001b[0m\u001b[0m\n\u001b[0;32m---> 16\u001b[0;31m     \u001b[0mtrix\u001b[0m\u001b[0;34m.\u001b[0m\u001b[0mvbt\u001b[0m\u001b[0;34m.\u001b[0m\u001b[0mempty_like\u001b[0m\u001b[0;34m(\u001b[0m\u001b[0mclose\u001b[0m\u001b[0;34m)\u001b[0m\u001b[0;34m\u001b[0m\u001b[0;34m\u001b[0m\u001b[0m\n\u001b[0m\u001b[1;32m     17\u001b[0m     \u001b[0mprint\u001b[0m\u001b[0;34m(\u001b[0m\u001b[0mtrix\u001b[0m\u001b[0;34m,\u001b[0m \u001b[0mtrix\u001b[0m\u001b[0;34m.\u001b[0m\u001b[0mshape\u001b[0m\u001b[0;34m)\u001b[0m\u001b[0;34m\u001b[0m\u001b[0;34m\u001b[0m\u001b[0m\n\u001b[1;32m     18\u001b[0m     \u001b[0mtrix\u001b[0m \u001b[0;34m=\u001b[0m \u001b[0mtalib\u001b[0m\u001b[0;34m.\u001b[0m\u001b[0mTRIX\u001b[0m\u001b[0;34m(\u001b[0m\u001b[0mclose\u001b[0m\u001b[0;34m[\u001b[0m\u001b[0;34m:\u001b[0m\u001b[0;34m,\u001b[0m \u001b[0;36m0\u001b[0m\u001b[0;34m]\u001b[0m\u001b[0;34m,\u001b[0m \u001b[0mtimeperiod\u001b[0m\u001b[0;34m=\u001b[0m\u001b[0mwindow\u001b[0m\u001b[0;34m)\u001b[0m\u001b[0;34m\u001b[0m\u001b[0;34m\u001b[0m\u001b[0m\n",
      "\u001b[0;31mUnboundLocalError\u001b[0m: local variable 'trix' referenced before assignment"
     ]
    }
   ],
   "source": [
    "n = 13\n",
    "trix_windows, signal_windows, trend_windows = vbt.utils.params.create_param_combs(\n",
    "    (\n",
    "        product,\n",
    "        (product, np.arange(2, n, 10), np.arange(2, n, 10)),\n",
    "        np.arange(2, n, 10),\n",
    "    )\n",
    ")\n",
    "\n",
    "print(trix_windows, signal_windows, trend_windows)\n",
    "\n",
    "\n",
    "def apply_trix(close, window, signal_window):\n",
    "    print(window, signal_window)\n",
    "    print(close.shape)\n",
    "    trix.vbt.empty_like(close)\n",
    "    print(trix, trix.shape)\n",
    "    trix = talib.TRIX(close[:, 0], timeperiod=window)\n",
    "    signal = talib.SMA(trix, timeperiod=signal_window)\n",
    "    print(close.shape)\n",
    "    print(signal.shape)\n",
    "    print(trix.shape)\n",
    "    return trix, signal\n",
    "\n",
    "\n",
    "def plot_trix(trix, signal, column=None, fig=None):\n",
    "    fig = trix.vbt.plot(fig=fig)\n",
    "    fig = signal.vbt.plot(fig=fig)\n",
    "\n",
    "\n",
    "TrixIndicator = vbt.IndicatorFactory(\n",
    "    input_names=[\"close\"],\n",
    "    param_names=[\"window\", \"signal_window\"],\n",
    "    output_names=[\"trix\", \"signal\"],\n",
    "    subplots=dict(\n",
    "        plot_outputs=dict(\n",
    "            plot_func=plot_trix,\n",
    "            resolve_trix=True,\n",
    "            resolve_signal=True,\n",
    "        )\n",
    "    ),\n",
    ").from_apply_func(\n",
    "    apply_trix,\n",
    "    window=5,\n",
    "    signal_window=10,\n",
    "    # per_column=True,\n",
    ")\n",
    "\n",
    "trix = TrixIndicator.run(\n",
    "    price.get(\"Close\"),\n",
    "    window=[1, 2, 3],\n",
    "    signal_window=[4, 5, 6],\n",
    "    run_unique=True,\n",
    ")\n",
    "trend_ma = vbt.MA.run(\n",
    "    price.get(\"Close\"), window=trend_windows, ewm=True, run_unique=True\n",
    ")"
   ]
  },
  {
   "cell_type": "code",
   "execution_count": 17,
   "id": "0f7fa1de-f790-47dd-8e6e-651f14f07785",
   "metadata": {},
   "outputs": [
    {
     "ename": "AttributeError",
     "evalue": "module 'vectorbt' has no attribute 'empty_like'",
     "output_type": "error",
     "traceback": [
      "\u001b[0;31m---------------------------------------------------------------------------\u001b[0m",
      "\u001b[0;31mAttributeError\u001b[0m                            Traceback (most recent call last)",
      "\u001b[0;32m/var/folders/rb/_tzyg33164sbnnw49wrmspyc0000gn/T/ipykernel_32071/3761232129.py\u001b[0m in \u001b[0;36m<module>\u001b[0;34m\u001b[0m\n\u001b[1;32m      1\u001b[0m \u001b[0mclose\u001b[0m \u001b[0;34m=\u001b[0m \u001b[0mprice\u001b[0m\u001b[0;34m.\u001b[0m\u001b[0mget\u001b[0m\u001b[0;34m(\u001b[0m\u001b[0;34m\"Close\"\u001b[0m\u001b[0;34m)\u001b[0m\u001b[0;34m\u001b[0m\u001b[0;34m\u001b[0m\u001b[0m\n\u001b[0;32m----> 2\u001b[0;31m \u001b[0mvbt\u001b[0m\u001b[0;34m.\u001b[0m\u001b[0mempty_like\u001b[0m\u001b[0;34m(\u001b[0m\u001b[0mclose\u001b[0m\u001b[0;34m)\u001b[0m\u001b[0;34m\u001b[0m\u001b[0;34m\u001b[0m\u001b[0m\n\u001b[0m",
      "\u001b[0;31mAttributeError\u001b[0m: module 'vectorbt' has no attribute 'empty_like'"
     ]
    }
   ],
   "source": [
    "close = price.get(\"Close\")\n",
    "vbt.empty_like(close)"
   ]
  },
  {
   "cell_type": "code",
   "execution_count": 46,
   "id": "89756b40-cb7d-4d20-ad90-33ceba8a2d52",
   "metadata": {},
   "outputs": [
    {
     "data": {
      "text/plain": [
       "ohlcstcx_sl_stop  ohlcstcx_sl_trail  ohlcstcx_tp_stop  custom_window  custom_signal_window  ma_window  ma_ewm  symbol \n",
       "200               True               NaN               2              2                     2          True    BTCUSDT      1.212840\n",
       "                                                                                                               ETHUSDT      6.121111\n",
       "                                                                                                               SOLUSDT    149.925913\n",
       "Name: total_return, dtype: float64"
      ]
     },
     "execution_count": 46,
     "metadata": {},
     "output_type": "execute_result"
    }
   ],
   "source": [
    "entries = trix.trix_above(trix.signal).vbt & trend_ma.ma_below(price.get(\"Close\")).vbt\n",
    "exits = trix.signal_above(trix.trix)\n",
    "ohlcstx = vbt.OHLCSTCX.run(\n",
    "    entries,\n",
    "    price.get(\"Open\"),\n",
    "    price.get(\"High\"),\n",
    "    price.get(\"Low\"),\n",
    "    price.get(\"Close\"),\n",
    "    sl_stop=200,\n",
    "    sl_trail=True,\n",
    "    tp_stop=np.nan,\n",
    ")\n",
    "\n",
    "exits = ohlcstx.exits\n",
    "entries = ohlcstx.new_entries\n",
    "\n",
    "pf = vbt.Portfolio.from_signals(price.get(\"Close\"), entries, exits, freq=interval)\n",
    "pf.total_return()\n",
    "# pf.iloc[2].plot().show()\n",
    "# pf.iloc[2].stats()"
   ]
  }
 ],
 "metadata": {
  "kernelspec": {
   "display_name": "Python 3 (ipykernel)",
   "language": "python",
   "name": "python3"
  },
  "language_info": {
   "codemirror_mode": {
    "name": "ipython",
    "version": 3
   },
   "file_extension": ".py",
   "mimetype": "text/x-python",
   "name": "python",
   "nbconvert_exporter": "python",
   "pygments_lexer": "ipython3",
   "version": "3.9.6"
  }
 },
 "nbformat": 4,
 "nbformat_minor": 5
}
