{
 "cells": [
  {
   "cell_type": "code",
   "execution_count": 55,
   "metadata": {},
   "outputs": [
    {
     "data": {
      "text/plain": [
       "(34982, 10)"
      ]
     },
     "execution_count": 55,
     "metadata": {},
     "output_type": "execute_result"
    }
   ],
   "source": [
    "from datetime import datetime, timedelta\n",
    "import vectorbt as vbt\n",
    "from get_data import select_data\n",
    "import talib\n",
    "from pprint import pprint\n",
    "import numpy as np\n",
    "import pandas as pd\n",
    "from itertools import combinations, product\n",
    "from tools.dataframe import apply_logical_operation\n",
    "import json\n",
    "from typing import Optional, Union, List\n",
    "from sklearn.preprocessing import MinMaxScaler\n",
    "from sklearn.model_selection import train_test_split\n",
    "from sklearn import svm\n",
    "\n",
    "vbt.settings.portfolio[\"fees\"] = 0.001\n",
    "vbt.settings.portfolio[\"slippage\"] = 0.0025\n",
    "\n",
    "from_date = datetime.now() - timedelta(days=2 * 365)\n",
    "end_date = datetime.now()\n",
    "interval = \"30m\"\n",
    "symbol = \"BTCUSDT\"\n",
    "price = select_data(symbol, interval, from_date, end_date)\n",
    "price.data['BTCUSDT'].shape"
   ]
  },
  {
   "cell_type": "code",
   "execution_count": 70,
   "metadata": {},
   "outputs": [
    {
     "name": "stdout",
     "output_type": "stream",
     "text": [
      "(34981, 9)\n"
     ]
    }
   ],
   "source": [
    "data = price.data[\"BTCUSDT\"]\n",
    "data = data.drop(labels=\"Close time\", axis=1)\n",
    "y = (data[\"Open\"] < data[\"Close\"]).to_numpy().astype('float')[:-1]\n",
    "scaler = MinMaxScaler()\n",
    "data = scaler.fit_transform(data.iloc[1:,])\n",
    "print(data.shape)"
   ]
  },
  {
   "cell_type": "code",
   "execution_count": null,
   "metadata": {},
   "outputs": [],
   "source": [
    "train_test_split(train_size=0.7, shuf)"
   ]
  },
  {
   "cell_type": "code",
   "execution_count": 71,
   "metadata": {},
   "outputs": [
    {
     "data": {
      "text/plain": [
       "SVC()"
      ]
     },
     "execution_count": 71,
     "metadata": {},
     "output_type": "execute_result"
    }
   ],
   "source": [
    "clf = svm.SVC()\n",
    "clf.fit(data, y)"
   ]
  }
 ],
 "metadata": {
  "interpreter": {
   "hash": "700d25ffeb5aa38e6eea4e085976ccb359140b27dcb950e44c40fa8db95e4150"
  },
  "kernelspec": {
   "display_name": "Python 3.9.8 64-bit ('cs50')",
   "language": "python",
   "name": "python3"
  },
  "language_info": {
   "codemirror_mode": {
    "name": "ipython",
    "version": 3
   },
   "file_extension": ".py",
   "mimetype": "text/x-python",
   "name": "python",
   "nbconvert_exporter": "python",
   "pygments_lexer": "ipython3",
   "version": "3.9.8"
  },
  "orig_nbformat": 4
 },
 "nbformat": 4,
 "nbformat_minor": 2
}
