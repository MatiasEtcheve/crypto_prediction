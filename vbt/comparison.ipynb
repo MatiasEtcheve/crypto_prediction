{
 "cells": [
  {
   "cell_type": "code",
   "execution_count": 1,
   "id": "68aeef50",
   "metadata": {},
   "outputs": [
    {
     "data": {
      "application/javascript": "IPython.OutputArea.auto_scroll_threshold = 9999\n",
      "text/plain": [
       "<IPython.core.display.Javascript object>"
      ]
     },
     "metadata": {},
     "output_type": "display_data"
    }
   ],
   "source": [
    "%%javascript\n",
    "IPython.OutputArea.auto_scroll_threshold = 9999"
   ]
  },
  {
   "cell_type": "code",
   "execution_count": 4,
   "id": "362abd7e",
   "metadata": {
    "scrolled": false
   },
   "outputs": [],
   "source": [
    "from pathlib import Path\n",
    "from pprint import pprint\n",
    "from itertools import cycle\n",
    "import json\n",
    "import numpy as np\n",
    "import pandas as pd\n",
    "from io import StringIO\n",
    "import plotly\n",
    "import plotly.graph_objects as go\n",
    "import matplotlib.pyplot as plt\n",
    "import numpy as np\n",
    "from plotly.subplots import make_subplots\n",
    "from typing import Union, List, Callable\n",
    "from dataclasses import dataclass\n",
    "\n",
    "from visualisation.dataset import Dataset\n",
    "from visualisation.display import *"
   ]
  },
  {
   "cell_type": "code",
   "execution_count": 7,
   "id": "b7f60b8c",
   "metadata": {},
   "outputs": [],
   "source": [
    "data_path = Path() / \"data\"\n",
    "ds = (\n",
    "    #     Dataset(data_path / \"best\")\n",
    "    Dataset(data_path / \"TRIXStoRSI\", CONTAINS=[\"BTC\", \"trend\"])\n",
    "    #     + Dataset(data_path / \"WilliamsRMACDHisto\")\n",
    "    #     + Dataset(data_path / \"WilliamsRMACD\")\n",
    ")\n",
    "# ds.compute_order()\n",
    "ds.sort(by=\"net profit %\")\n",
    "ds = ds[0:10] + Dataset(data_path / \"best\")\n",
    "ds.normalize_kpis()\n",
    "\n",
    "figs = display(\n",
    "    ds,\n",
    "    display_functions=[display_kpis, display_equity, display_pdf],\n",
    ")\n",
    "\n",
    "for name, fig in figs.items():\n",
    "    print(name)\n",
    "    fig.show()"
   ]
  },
  {
   "cell_type": "code",
   "execution_count": 8,
   "id": "c45ef1d8",
   "metadata": {},
   "outputs": [
    {
     "name": "stdout",
     "output_type": "stream",
     "text": [
      "<visualisation.dataset.Dataset object at 0x7fe52c659640>\n"
     ]
    }
   ],
   "source": [
    "print(ds)"
   ]
  }
 ],
 "metadata": {
  "kernelspec": {
   "display_name": "Python 3 (ipykernel)",
   "language": "python",
   "name": "python3"
  },
  "language_info": {
   "codemirror_mode": {
    "name": "ipython",
    "version": 3
   },
   "file_extension": ".py",
   "mimetype": "text/x-python",
   "name": "python",
   "nbconvert_exporter": "python",
   "pygments_lexer": "ipython3",
   "version": "3.9.8"
  }
 },
 "nbformat": 4,
 "nbformat_minor": 5
}
